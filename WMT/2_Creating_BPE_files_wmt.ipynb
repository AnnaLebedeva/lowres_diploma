{
 "cells": [
  {
   "cell_type": "markdown",
   "id": "eaad7ae2",
   "metadata": {},
   "source": [
    "# Creating BPE files for parent and child model"
   ]
  },
  {
   "cell_type": "markdown",
   "id": "8d8ff0aa",
   "metadata": {},
   "source": [
    "All we need to do to prepare BPE files is perform apply operation by subword-nmt. As the researchers suggest, we use source-side dropout:  \n",
    "```python\n",
    "# parent train:\n",
    "subword-nmt apply-bpe -c codes --vocabulary vocab_file.de --dropout 0.1 --seed 42 < train_file_parent.de > train_file_parent.BPE.de\n",
    "subword-nmt apply-bpe -c codes --vocabulary vocab_file.cshsb < train_file_parent.cs > train_file_parent.BPE.cs\n",
    "\n",
    "# parent val\n",
    "cat newstest2019-csde.de \\\n",
    "    newstest2019-decs.de > dev_file.de\n",
    "\n",
    "cat newstest2019-csde.cs \\\n",
    "    newstest2019-decs.cs > dev_file.cs\n",
    "\n",
    "subword-nmt apply-bpe -c codes --vocabulary vocab_file.de --dropout 0.1 --seed 42 < dev_file.de > dev_file.BPE.de\n",
    "subword-nmt apply-bpe -c codes --vocabulary vocab_file.cshsb < dev_file.cs > dev_file.BPE.cs\n",
    "\n",
    "# child train:\n",
    "subword-nmt apply-bpe -c codes --vocabulary vocab_file.de --dropout 0.1 --seed 42 < train.hsb-de.de > train.hsb-de.BPE.de\n",
    "subword-nmt apply-bpe -c codes --vocabulary vocab_file.cshsb < train.hsb-de.hsb > train.hsb-de.BPE.hsb\n",
    "\n",
    "# child val:\n",
    "subword-nmt apply-bpe -c codes --vocabulary vocab_file.de --dropout 0.1 --seed 42 < devel.hsb-de.de > devel.hsb-de.BPE.de\n",
    "subword-nmt apply-bpe -c codes --vocabulary vocab_file.cshsb < devel.hsb-de.hsb > devel.hsb-de.BPE.hsb\n",
    "\n",
    "# child test:\n",
    "subword-nmt apply-bpe -c codes --vocabulary vocab_file.de --dropout 0.1 --seed 42 < devel_test.hsb-de.de > devel_test.hsb-de.BPE.de\n",
    "subword-nmt apply-bpe -c codes --vocabulary vocab_file.cshsb < devel_test.hsb-de.hsb > devel_test.hsb-de.BPE.hsb\n",
    "```"
   ]
  },
  {
   "cell_type": "markdown",
   "id": "22fc7398",
   "metadata": {},
   "source": [
    "This is how we prepared the data for the model. Next we will vectorize the lines using sockeye-prepare-data operation."
   ]
  },
  {
   "cell_type": "code",
   "execution_count": null,
   "id": "d9965041",
   "metadata": {},
   "outputs": [],
   "source": []
  }
 ],
 "metadata": {
  "kernelspec": {
   "display_name": "Python 3 (ipykernel)",
   "language": "python",
   "name": "python3"
  },
  "language_info": {
   "codemirror_mode": {
    "name": "ipython",
    "version": 3
   },
   "file_extension": ".py",
   "mimetype": "text/x-python",
   "name": "python",
   "nbconvert_exporter": "python",
   "pygments_lexer": "ipython3",
   "version": "3.9.12"
  }
 },
 "nbformat": 4,
 "nbformat_minor": 5
}
