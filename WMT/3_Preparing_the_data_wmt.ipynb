{
 "cells": [
  {
   "cell_type": "markdown",
   "id": "a39b1eec",
   "metadata": {},
   "source": [
    "# Preparing the data for the model = vectorizing"
   ]
  },
  {
   "cell_type": "markdown",
   "id": "a0622acf",
   "metadata": {},
   "source": [
    "First we install sockeye as described in the instructions at https://github.com/awslabs/sockeye/tree/main/sockeye. The command for preparation looks the following:\n",
    "```\n",
    "sockeye-prepare-data     --source train_file_parent.BPE.de --target train_file_parent.BPE.cs     --source-vocab augmented_vocab_de.json --target-vocab augmented_vocab_cshsb.json     --word-min-count 2 --pad-vocab-to-multiple-of 8 --max-seq-len 95     --num-samples-per-shard 10000000 --output prepared --max-processes $(nproc)\n",
    "```"
   ]
  },
  {
   "cell_type": "markdown",
   "id": "10905bf0",
   "metadata": {},
   "source": [
    "We perform this operation on all train files of both parent and child languages. We only do it for train data, and we put validation data as BPE files directly to the model."
   ]
  },
  {
   "cell_type": "code",
   "execution_count": null,
   "id": "ebfded08",
   "metadata": {},
   "outputs": [],
   "source": []
  }
 ],
 "metadata": {
  "kernelspec": {
   "display_name": "Python 3 (ipykernel)",
   "language": "python",
   "name": "python3"
  },
  "language_info": {
   "codemirror_mode": {
    "name": "ipython",
    "version": 3
   },
   "file_extension": ".py",
   "mimetype": "text/x-python",
   "name": "python",
   "nbconvert_exporter": "python",
   "pygments_lexer": "ipython3",
   "version": "3.9.12"
  }
 },
 "nbformat": 4,
 "nbformat_minor": 5
}
