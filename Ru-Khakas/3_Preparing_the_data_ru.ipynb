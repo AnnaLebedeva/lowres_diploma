{
 "cells": [
  {
   "cell_type": "markdown",
   "id": "a39b1eec",
   "metadata": {},
   "source": [
    "# Preparing the data for the model = vectorizing"
   ]
  },
  {
   "cell_type": "markdown",
   "id": "a0622acf",
   "metadata": {},
   "source": [
    "First we install sockeye as described in the instructions at https://github.com/awslabs/sockeye/tree/main/sockeye. The command for preparation looks the following:\n",
    "```\n",
    "sockeye-prepare-data     --source train_parent.ru.BPE --target train_parent.chv.BPE     --source-vocab augmented_vocab_ru.json --target-vocab augmented_vocab_chvkh.json     --word-min-count 2 --pad-vocab-to-multiple-of 8 --max-seq-len 95     --num-samples-per-shard 2000000 --output prepared_ru_parent --max-processes $(nproc)\n",
    "```"
   ]
  },
  {
   "cell_type": "markdown",
   "id": "10905bf0",
   "metadata": {},
   "source": [
    "We perform this operation on all train files of both parent and child languages. We only do it for train data, and we put validation data as BPE files directly to the model (maybe too big --num-samples-per-shard, need to check later)"
   ]
  }
 ],
 "metadata": {
  "kernelspec": {
   "display_name": "Python 3 (ipykernel)",
   "language": "python",
   "name": "python3"
  },
  "language_info": {
   "codemirror_mode": {
    "name": "ipython",
    "version": 3
   },
   "file_extension": ".py",
   "mimetype": "text/x-python",
   "name": "python",
   "nbconvert_exporter": "python",
   "pygments_lexer": "ipython3",
   "version": "3.9.12"
  }
 },
 "nbformat": 4,
 "nbformat_minor": 5
}
