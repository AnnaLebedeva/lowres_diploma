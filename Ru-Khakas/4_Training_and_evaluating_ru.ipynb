{
 "cells": [
  {
   "cell_type": "markdown",
   "id": "4eb90043",
   "metadata": {},
   "source": [
    "# 4. Training and evaluating the model"
   ]
  },
  {
   "cell_type": "markdown",
   "id": "669972a8",
   "metadata": {},
   "source": [
    "## 4.1. Training"
   ]
  },
  {
   "cell_type": "markdown",
   "id": "d115b27f",
   "metadata": {},
   "source": [
    "### 4.1.1. Parent model"
   ]
  },
  {
   "cell_type": "markdown",
   "id": "a905f69f",
   "metadata": {},
   "source": [
    "After the previous step we ended up with folder \"prepared_ru_parent\" with prepared data for the model. Our next step will be training the model. I used 1 GPU so this was the training command I ran:\n",
    "```bash\n",
    "sockeye-train \\\n",
    "    --output model_ru_parent \\\n",
    "    --decode-and-evaluate -1 \\\n",
    "    --checkpoint-interval 4000 \\\n",
    "    --gradient-clipping-type abs \\\n",
    "    --initial-learning-rate 0.0001 \\\n",
    "    --keep-last-params 2 \\\n",
    "    --batch-size 8192 \\\n",
    "    --max-seq-len 200 \\\n",
    "    --num-layers 6 \\\n",
    "    --weight-tying none \\\n",
    "    --max-num-epochs 10000 \\\n",
    "    --optimized-metric bleu \\\n",
    "    --prepared-data prepared_ru_parent \\\n",
    "    --validation-source=val_parent.ru.BPE \\\n",
    "    --validation-target=val_parent.chv.BPE\n",
    "```"
   ]
  },
  {
   "cell_type": "markdown",
   "id": "8ddaca57",
   "metadata": {},
   "source": [
    "### 4.1.2. Child model"
   ]
  },
  {
   "cell_type": "markdown",
   "id": "881762d1",
   "metadata": {},
   "source": [
    "As a result of this command we get a \"model_ru_parent\" folder with the weights. This folder (in particular, best weights from it) we mention in a training command for child model. I trained child model on 1 GPU so this was the command:\n",
    "```bash\n",
    "sockeye-train \\\n",
    "    --output model_ru_child \\\n",
    "    --params model_ru_parent/params.best \\\n",
    "    --decode-and-evaluate -1 \\\n",
    "    --checkpoint-interval 4000 \\\n",
    "    --gradient-clipping-type abs \\\n",
    "    --initial-learning-rate 0.0001 \\\n",
    "    --keep-last-params 2 \\\n",
    "    --batch-size 8192 \\\n",
    "    --max-seq-len 200 \\\n",
    "    --num-layers 6 \\\n",
    "    --weight-tying none \\\n",
    "    --max-num-epochs 10000 \\\n",
    "    --optimized-metric bleu \\\n",
    "    --prepared-data prepared_ru_child \\\n",
    "    --validation-source=val_child.ru.BPE \\\n",
    "    --validation-target=val_child.kh.BPE\n",
    "```"
   ]
  },
  {
   "cell_type": "markdown",
   "id": "e4085e90",
   "metadata": {},
   "source": [
    "## 4.2. Evaluation"
   ]
  },
  {
   "cell_type": "markdown",
   "id": "1bf47236",
   "metadata": {},
   "source": [
    "In order to evaluate the model we need to translate the sentences from the test set (those that model didn't see during training) and then compare them to the reference translation. This is command for translating:\n",
    "```bash\n",
    "sockeye-translate --input test_child.ru.BPE --output out.bpe --model model_ru_child --dtype float32 --beam-size 5 --batch-size 64\n",
    "```"
   ]
  },
  {
   "cell_type": "markdown",
   "id": "3de7c8b5",
   "metadata": {},
   "source": [
    "After that we get bask from tokenized lines to actual texts with this command:\n",
    "```bash\n",
    "sed -E 's/(@@ |@@$)//g' <out.bpe >out.tok\n",
    "```"
   ]
  },
  {
   "cell_type": "markdown",
   "id": "f10ab604",
   "metadata": {},
   "source": [
    "After that we use sacrebleu tool to check BLEU metric:\n",
    "```bash\n",
    "sacrebleu test_child.kh -tok none -i out.tok\n",
    "```"
   ]
  },
  {
   "cell_type": "markdown",
   "id": "65f187be",
   "metadata": {},
   "source": [
    "And ChrF metric:\n",
    "```bash\n",
    "sacrebleu test_child.kh --metrics chrf -i out.tok\n",
    "```"
   ]
  },
  {
   "cell_type": "code",
   "execution_count": null,
   "id": "0fcb1048",
   "metadata": {},
   "outputs": [],
   "source": []
  }
 ],
 "metadata": {
  "kernelspec": {
   "display_name": "Python 3 (ipykernel)",
   "language": "python",
   "name": "python3"
  },
  "language_info": {
   "codemirror_mode": {
    "name": "ipython",
    "version": 3
   },
   "file_extension": ".py",
   "mimetype": "text/x-python",
   "name": "python",
   "nbconvert_exporter": "python",
   "pygments_lexer": "ipython3",
   "version": "3.9.12"
  }
 },
 "nbformat": 4,
 "nbformat_minor": 5
}
