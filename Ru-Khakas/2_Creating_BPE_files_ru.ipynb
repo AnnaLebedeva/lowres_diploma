{
 "cells": [
  {
   "cell_type": "markdown",
   "id": "eaad7ae2",
   "metadata": {},
   "source": [
    "# Creating BPE files for parent and child model"
   ]
  },
  {
   "cell_type": "markdown",
   "id": "8d8ff0aa",
   "metadata": {},
   "source": [
    "All we need to do to prepare BPE files is perform apply operation by subword-nmt. As the researchers suggest, we use source-side dropout:  \n",
    "```python\n",
    "# parent train:\n",
    "subword-nmt apply-bpe -c codes --vocabulary vocab_file.ru --dropout 0.1 --seed 42 < train_parent.ru > train_parent.ru.BPE\n",
    "subword-nmt apply-bpe -c codes --vocabulary vocab_file.chvkh < train_parent.chv > train_parent.chv.BPE\n",
    "\n",
    "# parent val\n",
    "subword-nmt apply-bpe -c codes --vocabulary vocab_file.ru --dropout 0.1 --seed 42 < val_parent.ru > val_parent.ru.BPE\n",
    "subword-nmt apply-bpe -c codes --vocabulary vocab_file.chvkh < val_parent.chv > val_parent.chv.BPE\n",
    "\n",
    "# child train:\n",
    "subword-nmt apply-bpe -c codes --vocabulary vocab_file.ru --dropout 0.1 --seed 42 < train_child.ru > train_child.ru.BPE\n",
    "subword-nmt apply-bpe -c codes --vocabulary vocab_file.chvkh < train_child.kh > train_child.kh.BPE\n",
    "\n",
    "# child val:\n",
    "subword-nmt apply-bpe -c codes --vocabulary vocab_file.ru --dropout 0.1 --seed 42 < val_child.ru > val_child.ru.BPE\n",
    "subword-nmt apply-bpe -c codes --vocabulary vocab_file.chvkh < val_child.kh > val_child.kh.BPE\n",
    "\n",
    "# child test:\n",
    "subword-nmt apply-bpe -c codes --vocabulary vocab_file.ru --dropout 0.1 --seed 42 < test_child.ru > test_child.ru.BPE\n",
    "subword-nmt apply-bpe -c codes --vocabulary vocab_file.chvkh < test_child.kh > test_child.kh.BPE\n",
    "```"
   ]
  },
  {
   "cell_type": "markdown",
   "id": "22fc7398",
   "metadata": {},
   "source": [
    "This is how we prepared the data for the model. Next we will vectorize the lines using sockeye-prepare-data operation."
   ]
  },
  {
   "cell_type": "code",
   "execution_count": null,
   "id": "d9965041",
   "metadata": {},
   "outputs": [],
   "source": []
  }
 ],
 "metadata": {
  "kernelspec": {
   "display_name": "Python 3 (ipykernel)",
   "language": "python",
   "name": "python3"
  },
  "language_info": {
   "codemirror_mode": {
    "name": "ipython",
    "version": 3
   },
   "file_extension": ".py",
   "mimetype": "text/x-python",
   "name": "python",
   "nbconvert_exporter": "python",
   "pygments_lexer": "ipython3",
   "version": "3.9.12"
  }
 },
 "nbformat": 4,
 "nbformat_minor": 5
}
